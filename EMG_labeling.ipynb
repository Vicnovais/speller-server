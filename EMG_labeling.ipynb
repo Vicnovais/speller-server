{
  "nbformat": 4,
  "nbformat_minor": 0,
  "metadata": {
    "colab": {
      "provenance": []
    },
    "kernelspec": {
      "name": "python3",
      "display_name": "Python 3"
    },
    "language_info": {
      "name": "python"
    }
  },
  "cells": [
    {
      "cell_type": "code",
      "execution_count": null,
      "metadata": {
        "colab": {
          "base_uri": "https://localhost:8080/"
        },
        "id": "6EU93sanmLOh",
        "outputId": "6b2cb3a4-c5e6-4dff-a8b4-535383053fcf"
      },
      "outputs": [
        {
          "output_type": "stream",
          "name": "stdout",
          "text": [
            "Labeled JSON with binary labels created and saved to labeled_data.json\n"
          ]
        }
      ],
      "source": [
        "import json\n",
        "\n",
        "# ===============================\n",
        "# 1. Load the JSON Data\n",
        "# ===============================\n",
        "with open(\"./emg_data2.json\", \"r\") as file:\n",
        "    data = json.load(file)\n",
        "\n",
        "# Filter out EMG data where formattedTime is before \"00:00\" and after \"00:05:16.671\"\n",
        "emg_data = [entry for entry in data[\"emgData\"] if \"00:00\" <= entry[\"formattedTime\"] <= \"00:05:16.670\"]\n",
        "word_events = data[\"wordEvents\"]  # Keep word events as they are\n",
        "\n",
        "# (Optional) Ensure the word events are sorted by timestamp.\n",
        "word_events = sorted(word_events, key=lambda event: event[\"timestamp\"])\n",
        "\n",
        "# ===============================\n",
        "# 2. Create Labeled Windows with Sliding Window Labeling\n",
        "# ===============================\n",
        "window_size = 25  # Number of EMG samples per window.\n",
        "stride = 12       # Number of samples to shift the window each time.\n",
        "\n",
        "def create_labeled_windows(emg_data, word_events, target_word):\n",
        "    labeled_windows = []  # This will store each window along with its binary label.\n",
        "\n",
        "    for start in range(0, len(emg_data) - window_size + 1, stride):\n",
        "        # Extract the current window of EMG samples.\n",
        "        window = emg_data[start : start + window_size]\n",
        "\n",
        "        # Determine the time span of this window.\n",
        "        window_start_time = window[0][\"timestamp\"]\n",
        "        window_end_time = window[-1][\"timestamp\"]\n",
        "\n",
        "        # Find any word events that occur within the window.\n",
        "        events_in_window = [\n",
        "            event for event in word_events\n",
        "            if window_start_time <= event[\"timestamp\"] <= window_end_time\n",
        "        ]\n",
        "\n",
        "        # Assign binary labels: 1 if target word appears, else 0.\n",
        "        label = 1 if any(event[\"word\"] == target_word for event in events_in_window) else 0\n",
        "\n",
        "        labeled_windows.append({\n",
        "            \"emg_data\": [sample[\"value\"] for sample in window],  # Extract only EMG values\n",
        "            \"start_timestamp\": window[0][\"timestamp\"],\n",
        "            \"end_timestamp\": window[-1][\"timestamp\"],\n",
        "            \"label\": label\n",
        "        })\n",
        "\n",
        "    return labeled_windows\n",
        "\n",
        "# ===============================\n",
        "# 3. Generate and Save Labeled JSON\n",
        "# ===============================\n",
        "target_word = \"Banheiro\"  # Change this to the word you are interested in.\n",
        "labeled_data = create_labeled_windows(emg_data, word_events, target_word)\n",
        "\n",
        "# Save labeled data to a JSON file.\n",
        "with open(\"labeled_data.json\", \"w\") as outfile:\n",
        "    json.dump(labeled_data, outfile, indent=4)\n",
        "\n",
        "print(\"Labeled JSON with binary labels created and saved to labeled_data.json\")"
      ]
    },
    {
      "cell_type": "code",
      "source": [
        "len(emg_data)"
      ],
      "metadata": {
        "id": "sD1GllWizMZ9",
        "outputId": "04e47a60-5b62-4836-f79a-aa6a528fb5c9",
        "colab": {
          "base_uri": "https://localhost:8080/"
        }
      },
      "execution_count": null,
      "outputs": [
        {
          "output_type": "execute_result",
          "data": {
            "text/plain": [
              "6304"
            ]
          },
          "metadata": {},
          "execution_count": 3
        }
      ]
    },
    {
      "cell_type": "code",
      "source": [
        "import json\n",
        "import numpy as np\n",
        "from sklearn.model_selection import train_test_split\n",
        "from sklearn.preprocessing import StandardScaler\n",
        "from sklearn.svm import SVC\n",
        "from sklearn.metrics import accuracy_score, classification_report\n",
        "from collections import Counter\n",
        "\n",
        "# ===============================\n",
        "# 1. Load Labeled JSON Data\n",
        "# ===============================\n",
        "with open(\"./labeled_data.json\", \"r\") as infile:\n",
        "    labeled_data = json.load(infile)\n",
        "\n",
        "# ===============================\n",
        "# 2. Extract Features and Labels\n",
        "# ===============================\n",
        "X = []\n",
        "y = []\n",
        "\n",
        "for entry in labeled_data:\n",
        "    X.append(entry[\"emg_data\"])  # Features: list of EMG values\n",
        "    y.append(entry[\"label\"])     # Label: 1 for target word, 0 otherwise\n",
        "\n",
        "X = np.array(X)\n",
        "y = np.array(y)\n",
        "\n",
        "# ===============================\n",
        "# 3. Balance the Dataset (Undersampling Majority Class)\n",
        "# ===============================\n",
        "# Count occurrences of each label\n",
        "label_counts = Counter(y)\n",
        "min_class = min(label_counts, key=label_counts.get)  # Find the minority class (1 in this case)\n",
        "max_class = max(label_counts, key=label_counts.get)  # Find the majority class (0 in this case)\n",
        "\n",
        "# Get indices of both classes\n",
        "min_indices = np.where(y == min_class)[0]\n",
        "max_indices = np.where(y == max_class)[0]\n",
        "\n",
        "# Undersample the majority class to match the minority class\n",
        "np.random.seed(123)\n",
        "max_indices_sampled = np.random.choice(max_indices, size=len(min_indices), replace=False)\n",
        "\n",
        "# Combine balanced indices\n",
        "balanced_indices = np.concatenate((min_indices, max_indices_sampled))\n",
        "np.random.shuffle(balanced_indices)\n",
        "\n",
        "# Apply balancing\n",
        "X_balanced = X[balanced_indices]\n",
        "y_balanced = y[balanced_indices]\n",
        "\n",
        "print(f\"Balanced dataset: {Counter(y_balanced)}\")  # Should be roughly equal for both labels\n",
        "\n",
        "# ===============================\n",
        "# 4. Split Data into Training and Test Sets\n",
        "# ===============================\n",
        "X_train, X_test, y_train, y_test = train_test_split(X_balanced, y_balanced, test_size=0.3, random_state=456)\n",
        "\n",
        "# ===============================\n",
        "# 5. Preprocess: Scale the Features\n",
        "# ===============================\n",
        "scaler = StandardScaler()\n",
        "X_train_scaled = scaler.fit_transform(X_train)\n",
        "X_test_scaled = scaler.transform(X_test)\n",
        "\n",
        "# ===============================\n",
        "# 6. Train the SVM Classifier\n",
        "# ===============================\n",
        "svm_clf = SVC(kernel=\"linear\", C=1.0, random_state=42)\n",
        "svm_clf.fit(X_train_scaled, y_train)\n",
        "\n",
        "# ===============================\n",
        "# 7. Evaluate the Model\n",
        "# ===============================\n",
        "y_pred = svm_clf.predict(X_test_scaled)\n",
        "accuracy = accuracy_score(y_test, y_pred)\n",
        "report = classification_report(y_test, y_pred)\n",
        "\n",
        "print(f\"Test Accuracy: {accuracy * 100:.2f}%\")\n",
        "print(\"Classification Report:\")\n",
        "print(report)\n"
      ],
      "metadata": {
        "colab": {
          "base_uri": "https://localhost:8080/"
        },
        "id": "fnHsjwhkomA4",
        "outputId": "3c0c6f6a-09ed-4637-bdae-2f518cc1c211"
      },
      "execution_count": null,
      "outputs": [
        {
          "output_type": "stream",
          "name": "stdout",
          "text": [
            "Balanced dataset: Counter({0: 104, 1: 104})\n",
            "Test Accuracy: 98.41%\n",
            "Classification Report:\n",
            "              precision    recall  f1-score   support\n",
            "\n",
            "           0       1.00      0.97      0.99        35\n",
            "           1       0.97      1.00      0.98        28\n",
            "\n",
            "    accuracy                           0.98        63\n",
            "   macro avg       0.98      0.99      0.98        63\n",
            "weighted avg       0.98      0.98      0.98        63\n",
            "\n"
          ]
        }
      ]
    },
    {
      "cell_type": "code",
      "source": [
        "from sklearn.linear_model import LogisticRegression\n",
        "\n",
        "baseline_clf = LogisticRegression()\n",
        "baseline_clf.fit(X_train, y_train)\n",
        "print(\"Baseline Accuracy:\", baseline_clf.score(X_test, y_test))\n"
      ],
      "metadata": {
        "colab": {
          "base_uri": "https://localhost:8080/"
        },
        "id": "KQJn4h2VUTSe",
        "outputId": "7c7bd917-190a-4488-c0b6-5ebe775fbb08"
      },
      "execution_count": null,
      "outputs": [
        {
          "output_type": "stream",
          "name": "stdout",
          "text": [
            "Baseline Accuracy: 0.9365079365079365\n"
          ]
        },
        {
          "output_type": "stream",
          "name": "stderr",
          "text": [
            "/usr/local/lib/python3.11/dist-packages/sklearn/linear_model/_logistic.py:465: ConvergenceWarning: lbfgs failed to converge (status=1):\n",
            "STOP: TOTAL NO. of ITERATIONS REACHED LIMIT.\n",
            "\n",
            "Increase the number of iterations (max_iter) or scale the data as shown in:\n",
            "    https://scikit-learn.org/stable/modules/preprocessing.html\n",
            "Please also refer to the documentation for alternative solver options:\n",
            "    https://scikit-learn.org/stable/modules/linear_model.html#logistic-regression\n",
            "  n_iter_i = _check_optimize_result(\n"
          ]
        }
      ]
    },
    {
      "cell_type": "code",
      "source": [
        "# Count occurrences of each label\n",
        "num_ones = np.sum(y == 1)\n",
        "num_zeros = np.sum(y == 0)\n",
        "\n",
        "print(f\"Number of 1s: {num_ones}\")\n",
        "print(f\"Number of 0s: {num_zeros}\")\n"
      ],
      "metadata": {
        "colab": {
          "base_uri": "https://localhost:8080/"
        },
        "id": "tgh06RVhPusl",
        "outputId": "6923b555-31c3-4fcd-eb01-6047f3be5e4c"
      },
      "execution_count": null,
      "outputs": [
        {
          "output_type": "stream",
          "name": "stdout",
          "text": [
            "Number of 1s: 104\n",
            "Number of 0s: 420\n"
          ]
        }
      ]
    },
    {
      "cell_type": "code",
      "source": [
        "# Check for overlap between training and test data\n",
        "overlap = np.sum([np.any(np.all(X_test_scaled[i] == X_train_scaled, axis=1)) for i in range(len(X_test_scaled))])\n",
        "print(f\"Number of test samples that also appear in training set: {overlap}\")\n",
        "\n",
        "from collections import Counter\n",
        "\n",
        "print(f\"Train label distribution: {Counter(y_train)}\")\n",
        "print(f\"Test label distribution: {Counter(y_test)}\")\n"
      ],
      "metadata": {
        "colab": {
          "base_uri": "https://localhost:8080/"
        },
        "id": "y71JMaZ2S_BB",
        "outputId": "dcb7ffb1-07f5-4c1d-9e80-7432e1596cd4"
      },
      "execution_count": null,
      "outputs": [
        {
          "output_type": "stream",
          "name": "stdout",
          "text": [
            "Number of test samples that also appear in training set: 5\n",
            "Train label distribution: Counter({1: 83, 0: 83})\n",
            "Test label distribution: Counter({0: 21, 1: 21})\n"
          ]
        }
      ]
    },
    {
      "cell_type": "code",
      "source": [
        "from sklearn.dummy import DummyClassifier\n",
        "\n",
        "dummy_clf = DummyClassifier(strategy=\"most_frequent\")\n",
        "dummy_clf.fit(X_train_scaled, y_train)\n",
        "dummy_pred = dummy_clf.predict(X_test_scaled)\n",
        "\n",
        "print(\"Baseline Accuracy (Majority Class Prediction):\", accuracy_score(y_test, dummy_pred))\n"
      ],
      "metadata": {
        "colab": {
          "base_uri": "https://localhost:8080/"
        },
        "id": "lUr7Ph22TGfr",
        "outputId": "7407ec19-97be-4ca1-a6b3-d85617e66902"
      },
      "execution_count": null,
      "outputs": [
        {
          "output_type": "stream",
          "name": "stdout",
          "text": [
            "Baseline Accuracy (Majority Class Prediction): 0.5\n"
          ]
        }
      ]
    },
    {
      "cell_type": "code",
      "source": [
        "import matplotlib.pyplot as plt\n",
        "from sklearn.decomposition import PCA\n",
        "\n",
        "pca = PCA(n_components=2)\n",
        "X_train_pca = pca.fit_transform(X_train_scaled)\n",
        "X_test_pca = pca.transform(X_test_scaled)\n",
        "\n",
        "plt.scatter(X_train_pca[:, 0], X_train_pca[:, 1], c=y_train, cmap='coolwarm', alpha=0.6, label=\"Train\")\n",
        "plt.scatter(X_test_pca[:, 0], X_test_pca[:, 1], c=y_test, cmap='coolwarm', edgecolors='k', label=\"Test\")\n",
        "plt.legend()\n",
        "plt.title(\"PCA Projection of the Data\")\n",
        "plt.show()\n"
      ],
      "metadata": {
        "colab": {
          "base_uri": "https://localhost:8080/",
          "height": 452
        },
        "id": "_Gds8apjTJAG",
        "outputId": "c4a6d652-8691-4d85-e5f1-45786dac1858"
      },
      "execution_count": null,
      "outputs": [
        {
          "output_type": "display_data",
          "data": {
            "text/plain": [
              "<Figure size 640x480 with 1 Axes>"
            ],
            "image/png": "[encoded data removed]"
          },
          "metadata": {}
        }
      ]
    },
    {
      "cell_type": "code",
      "source": [
        "from sklearn.metrics import confusion_matrix\n",
        "\n",
        "cm = confusion_matrix(y_test, y_pred)\n",
        "print(\"Confusion Matrix:\\n\", cm)\n"
      ],
      "metadata": {
        "colab": {
          "base_uri": "https://localhost:8080/"
        },
        "id": "bq47iWFDTcgQ",
        "outputId": "63190344-b866-4b27-d0d3-dc0bc2a74db7"
      },
      "execution_count": null,
      "outputs": [
        {
          "output_type": "stream",
          "name": "stdout",
          "text": [
            "Confusion Matrix:\n",
            " [[21  0]\n",
            " [ 0 21]]\n"
          ]
        }
      ]
    },
    {
      "cell_type": "code",
      "source": [
        "from sklearn.model_selection import cross_val_score\n",
        "\n",
        "cv_scores = cross_val_score(svm_clf, X_train_scaled, y_train, cv=5)\n",
        "print(\"Cross-Validation Accuracy:\", cv_scores.mean())\n"
      ],
      "metadata": {
        "colab": {
          "base_uri": "https://localhost:8080/"
        },
        "id": "Ou2X15bmThrw",
        "outputId": "8919d47a-3c36-48db-ebca-0840de565491"
      },
      "execution_count": null,
      "outputs": [
        {
          "output_type": "stream",
          "name": "stdout",
          "text": [
            "Cross-Validation Accuracy: 1.0\n"
          ]
        }
      ]
    },
    {
      "cell_type": "code",
      "source": [
        "from sklearn.metrics.pairwise import cosine_similarity\n",
        "import numpy as np\n",
        "\n",
        "# Convert train and test data into arrays for similarity checking\n",
        "X_train_arr = np.array(X_train)\n",
        "X_test_arr = np.array(X_test)\n",
        "\n",
        "# Compute cosine similarity between test and train samples\n",
        "similarity_matrix = cosine_similarity(X_test_arr, X_train_arr)\n",
        "\n",
        "# Check for high similarity\n",
        "high_similarity = np.any(similarity_matrix > 0.99)  # Adjust threshold as needed\n",
        "print(\"Possible data leakage:\", high_similarity)\n"
      ],
      "metadata": {
        "colab": {
          "base_uri": "https://localhost:8080/"
        },
        "id": "DvtAhagRT7Iq",
        "outputId": "ced9c58c-7f0c-4eca-cd88-adefe1c5e837"
      },
      "execution_count": null,
      "outputs": [
        {
          "output_type": "stream",
          "name": "stdout",
          "text": [
            "Possible data leakage: True\n"
          ]
        }
      ]
    },
    {
      "cell_type": "code",
      "source": [
        "import numpy as np\n",
        "\n",
        "def predict_emg_window(new_emg_window, scaler, svm_clf):\n",
        "    \"\"\"\n",
        "    Given a new EMG window (list of values), the trained scaler, and the trained SVM classifier,\n",
        "    this function preprocesses the input and returns the predicted label.\n",
        "\n",
        "    Parameters:\n",
        "        new_emg_window (list or np.array): The raw EMG values for one window (length should equal window_size).\n",
        "        scaler (StandardScaler): The scaler used to scale training data.\n",
        "        svm_clf (SVC): The trained SVM classifier.\n",
        "\n",
        "    Returns:\n",
        "        int: The predicted label (1 if target word highlighted, 0 otherwise).\n",
        "    \"\"\"\n",
        "    # Convert the window to a numpy array and ensure it has the shape (1, window_length)\n",
        "    new_emg_window = np.array(new_emg_window).reshape(1, -1)\n",
        "\n",
        "    # Scale the new data using the previously fitted scaler\n",
        "    new_emg_window_scaled = scaler.transform(new_emg_window)\n",
        "\n",
        "    # Predict using the trained SVM classifier\n",
        "    prediction = svm_clf.predict(new_emg_window_scaled)\n",
        "    return prediction[0]\n",
        "\n",
        "# -------------------------------\n",
        "# Example usage:\n",
        "# -------------------------------\n",
        "# Let's assume that your window size is 50 and you have a new EMG window (replace the dummy values below with your actual data)\n",
        "new_emg_window = [\n",
        "    1.2, 2.3, 1.1, 1.5, 1.6, 2.1, 1.0, 1.2, 1.3, 1.4,\n",
        "    1.5, 1.6, 1.7, 1.8, 1.9, 2.0, 1.8, 1.7, 1.6, 1.5,\n",
        "    1.4, 1.3, 1.2, 1.1, 1.0, 1.1, 1.2, 1.3, 1.4, 1.5,\n",
        "    1.6, 1.7, 1.8, 1.9, 2.0, 2.1, 2.2, 2.3, 2.4, 2.5,\n",
        "    2.6, 2.7, 2.8, 2.9, 3.0, 3.1, 3.2, 3.3, 3.4, 3.5\n",
        "]\n",
        "\n",
        "# Predict the label for the new window.\n",
        "# Make sure 'scaler' and 'svm_clf' are defined from your training phase.\n",
        "predicted_label = predict_emg_window(new_emg_window, scaler, svm_clf)\n",
        "print(\"Predicted Label:\", predicted_label)"
      ],
      "metadata": {
        "colab": {
          "base_uri": "https://localhost:8080/"
        },
        "id": "g2RohbUGo0Jh",
        "outputId": "65b8a61a-3993-47fb-aa7c-c9275b1620ec"
      },
      "execution_count": null,
      "outputs": [
        {
          "output_type": "stream",
          "name": "stdout",
          "text": [
            "Predicted Label: 1\n"
          ]
        }
      ]
    }
  ]
}